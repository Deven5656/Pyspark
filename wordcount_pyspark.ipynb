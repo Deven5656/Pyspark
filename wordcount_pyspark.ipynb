{
 "cells": [
  {
   "cell_type": "markdown",
   "metadata": {},
   "source": [
    "\"\"\"<br>\n",
    "    @Author: Deven Gupta<br>\n",
    "    @Date: 3-09-2024<br>\n",
    "    @Last Modified by: Deven Gupta<br>\n",
    "    @Last Modified time: 3-09-2024<br>\n",
    "    @Title : Python program in pyspark for wordcount using multiple file format<br>\n",
    "<br>\n",
    "\"\"\"<br>"
   ]
  },
  {
   "cell_type": "code",
   "execution_count": 23,
   "metadata": {},
   "outputs": [],
   "source": [
    "from pyspark.sql import SparkSession\n",
    "spark=SparkSession.builder.appName('pyspark').master(\"local[*]\").getOrCreate()\n",
    "from pyspark.sql.functions import explode, split, col, concat_ws, lower"
   ]
  },
  {
   "cell_type": "code",
   "execution_count": 7,
   "metadata": {},
   "outputs": [
    {
     "data": {
      "text/html": [
       "\n",
       "            <div>\n",
       "                <p><b>SparkSession - in-memory</b></p>\n",
       "                \n",
       "        <div>\n",
       "            <p><b>SparkContext</b></p>\n",
       "\n",
       "            <p><a href=\"http://DESKTOP-GS37EC8:4040\">Spark UI</a></p>\n",
       "\n",
       "            <dl>\n",
       "              <dt>Version</dt>\n",
       "                <dd><code>v3.5.2</code></dd>\n",
       "              <dt>Master</dt>\n",
       "                <dd><code>local[*]</code></dd>\n",
       "              <dt>AppName</dt>\n",
       "                <dd><code>pyspark</code></dd>\n",
       "            </dl>\n",
       "        </div>\n",
       "        \n",
       "            </div>\n",
       "        "
      ],
      "text/plain": [
       "<pyspark.sql.session.SparkSession at 0x22e0daf1fa0>"
      ]
     },
     "execution_count": 7,
     "metadata": {},
     "output_type": "execute_result"
    }
   ],
   "source": [
    "spark"
   ]
  },
  {
   "cell_type": "markdown",
   "metadata": {},
   "source": [
    "## <Center><p style=\"background:white ; color:blue ; font-weight:bold\">Wordcount using Text file</p></Center>"
   ]
  },
  {
   "cell_type": "code",
   "execution_count": 8,
   "metadata": {},
   "outputs": [
    {
     "name": "stdout",
     "output_type": "stream",
     "text": [
      "+--------------------+\n",
      "|               value|\n",
      "+--------------------+\n",
      "|Hello my name is ...|\n",
      "|my brother name i...|\n",
      "|and my friends na...|\n",
      "+--------------------+\n",
      "\n",
      "+-------+-----+\n",
      "|   word|count|\n",
      "+-------+-----+\n",
      "| aayush|    1|\n",
      "|   name|    3|\n",
      "|  sujal|    1|\n",
      "|friends|    1|\n",
      "| prayag|    1|\n",
      "|      .|    1|\n",
      "|     is|    2|\n",
      "|   shiv|    1|\n",
      "|  Hello|    1|\n",
      "|     my|    3|\n",
      "|    and|    2|\n",
      "|    are|    1|\n",
      "|  deven|    1|\n",
      "|      ,|    1|\n",
      "|brother|    1|\n",
      "|       |    1|\n",
      "+-------+-----+\n",
      "\n"
     ]
    }
   ],
   "source": [
    "df_text=spark.read.text(\"Files/input.txt\")\n",
    "df_text.show()\n",
    "\n",
    "\n",
    "words_df = df_text.select(explode(split(col(\"value\"), \" \")).alias(\"word\"))\n",
    "word_counts_df = words_df.groupBy(\"word\").count()\n",
    "word_counts_df.show()\n"
   ]
  },
  {
   "cell_type": "markdown",
   "metadata": {},
   "source": [
    "##   <Center><p style=\"background:white ; color:blue ; font-weight:bold\">WordCount using CSV File</p></Center>"
   ]
  },
  {
   "cell_type": "code",
   "execution_count": 27,
   "metadata": {},
   "outputs": [
    {
     "name": "stdout",
     "output_type": "stream",
     "text": [
      "root\n",
      " |-- id: integer (nullable = true)\n",
      " |-- text1: string (nullable = true)\n",
      " |-- text2: string (nullable = true)\n",
      " |-- author: string (nullable = true)\n",
      "\n",
      "+---+--------------------+--------------------+------+\n",
      "| id|               text1|               text2|author|\n",
      "+---+--------------------+--------------------+------+\n",
      "|  1|This is a sample ...|Another part of t...| Alice|\n",
      "|  2|      More text here|     Additional text|   Bob|\n",
      "+---+--------------------+--------------------+------+\n",
      "\n",
      "+---+--------------------+--------------------+------+--------------------+\n",
      "| id|               text1|               text2|author|       combined_text|\n",
      "+---+--------------------+--------------------+------+--------------------+\n",
      "|  1|This is a sample ...|Another part of t...| Alice|This is a sample ...|\n",
      "|  2|      More text here|     Additional text|   Bob|More text here Ad...|\n",
      "+---+--------------------+--------------------+------+--------------------+\n",
      "\n",
      "+----------+-----+\n",
      "|      word|count|\n",
      "+----------+-----+\n",
      "|      more|    1|\n",
      "|        is|    1|\n",
      "|  sentence|    1|\n",
      "|additional|    1|\n",
      "|       the|    1|\n",
      "|      here|    1|\n",
      "|      part|    1|\n",
      "|        of|    1|\n",
      "|    sample|    1|\n",
      "|      text|    3|\n",
      "|         a|    1|\n",
      "|      this|    1|\n",
      "|   another|    1|\n",
      "+----------+-----+\n",
      "\n"
     ]
    }
   ],
   "source": [
    "df_csv=spark.read.csv(\"Files/input.csv\",header=True,inferSchema=True)\n",
    "df_csv.printSchema()\n",
    "df_csv.show()\n",
    "\n",
    "\n",
    "combined_df = df_csv.withColumn(\"combined_text\", concat_ws(\" \", col(\"text1\"), col(\"text2\")))\n",
    "combined_df.show()\n",
    "\n",
    "words_df = combined_df.select(explode(split(lower(col(\"combined_text\")), \" \")).alias(\"word\"))\n",
    "word_counts_df = words_df.groupBy(\"word\").count()\n",
    "word_counts_df.show()\n",
    "\n"
   ]
  },
  {
   "cell_type": "markdown",
   "metadata": {},
   "source": [
    "## <Center><p style=\"background:white ; color:blue ; font-weight:bold\">Wordcount using JSON</p></Center>"
   ]
  },
  {
   "cell_type": "code",
   "execution_count": 20,
   "metadata": {},
   "outputs": [
    {
     "name": "stdout",
     "output_type": "stream",
     "text": [
      "root\n",
      " |-- _corrupt_record: string (nullable = true)\n",
      " |-- text: string (nullable = true)\n",
      "\n",
      "+---------------+--------------------+\n",
      "|_corrupt_record|                text|\n",
      "+---------------+--------------------+\n",
      "|              [|                NULL|\n",
      "|           NULL|Hello my name is ...|\n",
      "|              ]|                NULL|\n",
      "+---------------+--------------------+\n",
      "\n",
      "+-------+-----+\n",
      "|   word|count|\n",
      "+-------+-----+\n",
      "| aayush|    1|\n",
      "|   name|    3|\n",
      "|  sujal|    1|\n",
      "|friends|    1|\n",
      "| prayag|    1|\n",
      "|      .|    1|\n",
      "|     is|    2|\n",
      "|   shiv|    1|\n",
      "|  Hello|    1|\n",
      "|     my|    3|\n",
      "|    and|    2|\n",
      "|    are|    1|\n",
      "|  deven|    1|\n",
      "|      ,|    1|\n",
      "|brother|    1|\n",
      "|       |    1|\n",
      "+-------+-----+\n",
      "\n"
     ]
    }
   ],
   "source": [
    "df_json = spark.read.json(\"Files/input.json\")\n",
    "df_json.printSchema()\n",
    "df_json.show()\n",
    "\n",
    "words_df = df_json.select(explode(split((col(\"text\")), \" \")).alias(\"word\"))\n",
    "word_counts_df = words_df.groupBy(\"word\").count()\n",
    "word_counts_df.show()"
   ]
  },
  {
   "cell_type": "code",
   "execution_count": 28,
   "metadata": {},
   "outputs": [],
   "source": [
    "spark.stop()"
   ]
  }
 ],
 "metadata": {
  "kernelspec": {
   "display_name": "Python 3",
   "language": "python",
   "name": "python3"
  },
  "language_info": {
   "codemirror_mode": {
    "name": "ipython",
    "version": 3
   },
   "file_extension": ".py",
   "mimetype": "text/x-python",
   "name": "python",
   "nbconvert_exporter": "python",
   "pygments_lexer": "ipython3",
   "version": "3.12.4"
  }
 },
 "nbformat": 4,
 "nbformat_minor": 2
}
