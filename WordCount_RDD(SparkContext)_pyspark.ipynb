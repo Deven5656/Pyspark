{
  "cells": [
    {
      "cell_type": "markdown",
      "metadata": {},
      "source": [
        "\"\"\"<br>\n",
        "    @Author: Deven Gupta<br>\n",
        "    @Date: 4-09-2024<br>\n",
        "    @Last Modified by: Deven Gupta<br>\n",
        "    @Last Modified time: 4-09-2024<br>\n",
        "    @Title : Perform Wordcount problem using sparkcontext<br>\n",
        "<br>\n",
        "\"\"\""
      ]
    },
    {
      "cell_type": "code",
      "execution_count": 45,
      "metadata": {
        "id": "k_gAj84mXK2_"
      },
      "outputs": [],
      "source": [
        "from pyspark import SparkContext,SparkConf"
      ]
    },
    {
      "cell_type": "code",
      "execution_count": 46,
      "metadata": {
        "id": "JBDNxlL6TBSp"
      },
      "outputs": [],
      "source": [
        "conf=SparkConf().setAppName(\"WordCount\")\n",
        "sc= SparkContext(conf=conf)"
      ]
    },
    {
      "cell_type": "code",
      "execution_count": 47,
      "metadata": {
        "colab": {
          "base_uri": "https://localhost:8080/",
          "height": 196
        },
        "id": "nhgtRhSZXRIW",
        "outputId": "c27662d8-e83c-4aa3-a172-436d1c176545"
      },
      "outputs": [
        {
          "data": {
            "text/html": [
              "\n",
              "        <div>\n",
              "            <p><b>SparkContext</b></p>\n",
              "\n",
              "            <p><a href=\"http://3b265253df53:4040\">Spark UI</a></p>\n",
              "\n",
              "            <dl>\n",
              "              <dt>Version</dt>\n",
              "                <dd><code>v3.5.2</code></dd>\n",
              "              <dt>Master</dt>\n",
              "                <dd><code>local[*]</code></dd>\n",
              "              <dt>AppName</dt>\n",
              "                <dd><code>WordCount</code></dd>\n",
              "            </dl>\n",
              "        </div>\n",
              "        "
            ],
            "text/plain": [
              "<SparkContext master=local[*] appName=WordCount>"
            ]
          },
          "execution_count": 47,
          "metadata": {},
          "output_type": "execute_result"
        }
      ],
      "source": [
        "sc"
      ]
    },
    {
      "cell_type": "markdown",
      "metadata": {
        "id": "Bv5YKUG1Wd4V"
      },
      "source": [
        "## <Center><h3 style=\"background:white;color:blue;font-weight:bold\">WordCount using Text file(SparkContext)</h3></Center>"
      ]
    },
    {
      "cell_type": "code",
      "execution_count": 5,
      "metadata": {
        "id": "7Ts3rgKdTf8G"
      },
      "outputs": [],
      "source": [
        "# Read the input text file into an RDD\n",
        "input_rdd = sc.textFile(\"/Files/file.txt\")"
      ]
    },
    {
      "cell_type": "code",
      "execution_count": 7,
      "metadata": {
        "colab": {
          "base_uri": "https://localhost:8080/"
        },
        "id": "fAzCPcscULvW",
        "outputId": "608343cf-06ca-406b-e55b-7bc96fcb91f2"
      },
      "outputs": [
        {
          "data": {
            "text/plain": [
              "['Hello my name is deven and my friend name is ayush and prayag and shiv']"
            ]
          },
          "execution_count": 7,
          "metadata": {},
          "output_type": "execute_result"
        }
      ],
      "source": [
        "input_rdd.collect()"
      ]
    },
    {
      "cell_type": "code",
      "execution_count": 8,
      "metadata": {
        "id": "oVTqK9jPTfwO"
      },
      "outputs": [],
      "source": [
        "# Split each line into words\n",
        "words = input_rdd.flatMap(lambda line: line.split())\n",
        "\n",
        "# Map each word to (word, 1)\n",
        "word_pairs = words.map(lambda word: (word, 1))\n",
        "\n",
        "# Reduce by key to count the occurrences of each word\n",
        "word_counts = word_pairs.reduceByKey(lambda a, b: a + b)\n"
      ]
    },
    {
      "cell_type": "code",
      "execution_count": 9,
      "metadata": {
        "colab": {
          "base_uri": "https://localhost:8080/"
        },
        "id": "vkedHdlWTffC",
        "outputId": "e2ac0d6f-cbe6-4c3d-8365-3a0a00687f08"
      },
      "outputs": [
        {
          "name": "stdout",
          "output_type": "stream",
          "text": [
            "Hello: 1\n",
            "name: 2\n",
            "is: 2\n",
            "deven: 1\n",
            "ayush: 1\n",
            "prayag: 1\n",
            "shiv: 1\n",
            "my: 2\n",
            "and: 3\n",
            "friend: 1\n"
          ]
        }
      ],
      "source": [
        "# Collect the results and print them\n",
        "results = word_counts.collect()\n",
        "for word, count in results:\n",
        "    print(f\"{word}: {count}\")\n"
      ]
    },
    {
      "cell_type": "markdown",
      "metadata": {
        "id": "HRWnH0gkZjnr"
      },
      "source": [
        "## <Center><h3 style=\"background:white;color:blue;font-weight:bold\">WordCount using CSV file (SparkContext)</h3></Center>\n",
        "\n"
      ]
    },
    {
      "cell_type": "code",
      "execution_count": 12,
      "metadata": {
        "colab": {
          "base_uri": "https://localhost:8080/"
        },
        "id": "iuhhmYLeYCcn",
        "outputId": "7681ef41-6387-4d92-b0aa-fe9474caf560"
      },
      "outputs": [
        {
          "data": {
            "text/plain": [
              "['EmployeeID,FirstName,LastName,Emp_Dept,Salary',\n",
              " '1,John,Doe,Comps,50000',\n",
              " '2,Jane,Smith,IT,60000',\n",
              " '3,Bob,Johnson,IT,55000',\n",
              " '4,Alice,Williams,Mech,70000',\n",
              " '5,Charlie,Brown,Comps,45000']"
            ]
          },
          "execution_count": 12,
          "metadata": {},
          "output_type": "execute_result"
        }
      ],
      "source": [
        "# Read the input csv file into an RDD\n",
        "csv_rdd = sc.textFile(\"/Files/CRUD.csv\")\n",
        "csv_rdd.collect()"
      ]
    },
    {
      "cell_type": "code",
      "execution_count": 16,
      "metadata": {
        "id": "G1TCbPooYo7D"
      },
      "outputs": [],
      "source": [
        "header = csv_rdd.first()  # Get the header line\n",
        "data_rdd = csv_rdd.filter(lambda line: line != header)  # Filter out the header\n",
        "\n",
        "# Split each line into words\n",
        "words = data_rdd.flatMap(lambda line: line.split(\",\"))\n",
        "\n",
        "# Map each word to (word, 1)\n",
        "word_pairs = words.map(lambda word: (word, 1))\n",
        "\n",
        "# Reduce by key to count the occurrences of each word\n",
        "word_counts = word_pairs.reduceByKey(lambda a, b: a + b)\n"
      ]
    },
    {
      "cell_type": "code",
      "execution_count": 20,
      "metadata": {
        "colab": {
          "base_uri": "https://localhost:8080/"
        },
        "id": "2hOOwuKcYvV6",
        "outputId": "dd69993a-3922-4fea-d9a5-2e9aa1e430db"
      },
      "outputs": [
        {
          "name": "stdout",
          "output_type": "stream",
          "text": [
            "1: 1\n",
            "Doe: 1\n",
            "Jane: 1\n",
            "Smith: 1\n",
            "60000: 1\n",
            "Johnson: 1\n",
            "55000: 1\n",
            "4: 1\n",
            "Williams: 1\n",
            "Mech: 1\n",
            "70000: 1\n",
            "45000: 1\n",
            "John: 1\n",
            "Comps: 2\n",
            "50000: 1\n",
            "2: 1\n",
            "IT: 2\n",
            "3: 1\n",
            "Bob: 1\n",
            "Alice: 1\n",
            "5: 1\n",
            "Charlie: 1\n",
            "Brown: 1\n"
          ]
        }
      ],
      "source": [
        "# Collect the results and print them\n",
        "results = word_counts.collect()\n",
        "for word, count in results:\n",
        "    print(f\"{word}: {count}\")\n"
      ]
    },
    {
      "cell_type": "markdown",
      "metadata": {
        "id": "y5ALH53wjkVN"
      },
      "source": [
        "## <Center><h3 style=\"background:white;color:blue;font-weight:bold\">WordCount using JSON file (SparkContext)</h3></Center>"
      ]
    },
    {
      "cell_type": "code",
      "execution_count": 72,
      "metadata": {
        "colab": {
          "base_uri": "https://localhost:8080/"
        },
        "id": "HiEwcn5jZ2W2",
        "outputId": "f5547f40-a0a5-4e19-9e08-52955d10ad75"
      },
      "outputs": [
        {
          "data": {
            "text/plain": [
              "['{\"text\":\"Hello my name is Deven Hello my name is shiv Hello my name is ayush\"}']"
            ]
          },
          "execution_count": 72,
          "metadata": {},
          "output_type": "execute_result"
        }
      ],
      "source": [
        "import json\n",
        "\n",
        "# Read JSON file as text RDD\n",
        "json_rdd = sc.textFile(\"/Files/file.json\")\n",
        "json_rdd.collect()"
      ]
    },
    {
      "cell_type": "code",
      "execution_count": 73,
      "metadata": {
        "id": "vbtctkHhc9RI"
      },
      "outputs": [],
      "source": [
        "# Parse JSON lines into Python dictionaries\n",
        "parsed_rdd = json_rdd.map(lambda line: json.loads(line))"
      ]
    },
    {
      "cell_type": "code",
      "execution_count": 74,
      "metadata": {
        "id": "36knzxxojRLE"
      },
      "outputs": [],
      "source": [
        "# Extract text fields and split into words\n",
        "texts = parsed_rdd.flatMap(lambda obj: obj['text'].split())\n",
        "\n",
        "# Map each word to (word, 1)\n",
        "word_pairs = texts.map(lambda word: (word, 1))\n",
        "\n",
        "# Reduce by key to count the occurrences of each word\n",
        "word_counts = word_pairs.reduceByKey(lambda a, b: a + b)"
      ]
    },
    {
      "cell_type": "code",
      "execution_count": 75,
      "metadata": {
        "colab": {
          "base_uri": "https://localhost:8080/"
        },
        "id": "Uir0LqbgjSxE",
        "outputId": "343390ed-01a8-4883-e8b9-a032db649e41"
      },
      "outputs": [
        {
          "name": "stdout",
          "output_type": "stream",
          "text": [
            "Hello: 3\n",
            "name: 3\n",
            "is: 3\n",
            "Deven: 1\n",
            "shiv: 1\n",
            "ayush: 1\n",
            "my: 3\n"
          ]
        }
      ],
      "source": [
        "# Collect the results and print them\n",
        "results = word_counts.collect()\n",
        "for word, count in results:\n",
        "    print(f\"{word}: {count}\")"
      ]
    },
    {
      "cell_type": "code",
      "execution_count": 76,
      "metadata": {
        "id": "cQrHfrPvgFAz"
      },
      "outputs": [],
      "source": [
        "sc.stop()"
      ]
    }
  ],
  "metadata": {
    "colab": {
      "provenance": []
    },
    "kernelspec": {
      "display_name": "Python 3",
      "name": "python3"
    },
    "language_info": {
      "name": "python"
    }
  },
  "nbformat": 4,
  "nbformat_minor": 0
}
