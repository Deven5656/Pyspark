{
 "cells": [
  {
   "cell_type": "markdown",
   "metadata": {},
   "source": [
    "\"\"\"<br>\n",
    "    @Author: Deven Gupta<br>\n",
    "    @Date: 3-09-2024<br>\n",
    "    @Last Modified by: Deven Gupta<br>\n",
    "    @Last Modified time: 3-09-2024<br>\n",
    "    @Title : Perform Read and Write operation in pyspark<br>\n",
    "<br>\n",
    "\"\"\""
   ]
  },
  {
   "cell_type": "code",
   "execution_count": 1,
   "metadata": {},
   "outputs": [],
   "source": [
    "from pyspark.sql import SparkSession\n",
    "spark=SparkSession.builder.appName('R_W_pyspark').config(\"spark.jars.packages\", \"org.apache.spark:spark-avro_2.12:3.5.2\").master(\"local[*]\").getOrCreate()"
   ]
  },
  {
   "cell_type": "code",
   "execution_count": 2,
   "metadata": {},
   "outputs": [
    {
     "data": {
      "text/html": [
       "\n",
       "            <div>\n",
       "                <p><b>SparkSession - in-memory</b></p>\n",
       "                \n",
       "        <div>\n",
       "            <p><b>SparkContext</b></p>\n",
       "\n",
       "            <p><a href=\"http://DESKTOP-GS37EC8:4040\">Spark UI</a></p>\n",
       "\n",
       "            <dl>\n",
       "              <dt>Version</dt>\n",
       "                <dd><code>v3.5.2</code></dd>\n",
       "              <dt>Master</dt>\n",
       "                <dd><code>local[*]</code></dd>\n",
       "              <dt>AppName</dt>\n",
       "                <dd><code>R_W_pyspark</code></dd>\n",
       "            </dl>\n",
       "        </div>\n",
       "        \n",
       "            </div>\n",
       "        "
      ],
      "text/plain": [
       "<pyspark.sql.session.SparkSession at 0x28033e4ff80>"
      ]
     },
     "execution_count": 2,
     "metadata": {},
     "output_type": "execute_result"
    }
   ],
   "source": [
    "spark"
   ]
  },
  {
   "cell_type": "markdown",
   "metadata": {},
   "source": [
    "## <Center><h1 style=\"background:white;color:blue;font-weight:bold\">Conversion From Avro to CSV</h1></Center>"
   ]
  },
  {
   "cell_type": "code",
   "execution_count": 3,
   "metadata": {},
   "outputs": [],
   "source": [
    "#Reading the avro file\n",
    "df_avro=spark.read.format(\"avro\").load(\"file:///C:/Users/Deven/Desktop/Python Libraries/Pyspark/Files/input.avro\")"
   ]
  },
  {
   "cell_type": "code",
   "execution_count": 4,
   "metadata": {},
   "outputs": [
    {
     "name": "stdout",
     "output_type": "stream",
     "text": [
      "root\n",
      " |-- registration_dttm: string (nullable = true)\n",
      " |-- id: long (nullable = true)\n",
      " |-- first_name: string (nullable = true)\n",
      " |-- last_name: string (nullable = true)\n",
      " |-- email: string (nullable = true)\n",
      " |-- gender: string (nullable = true)\n",
      " |-- ip_address: string (nullable = true)\n",
      " |-- cc: long (nullable = true)\n",
      " |-- country: string (nullable = true)\n",
      " |-- birthdate: string (nullable = true)\n",
      " |-- salary: double (nullable = true)\n",
      " |-- title: string (nullable = true)\n",
      " |-- comments: string (nullable = true)\n",
      "\n"
     ]
    }
   ],
   "source": [
    "#Printing Scahema\n",
    "df_avro.printSchema()"
   ]
  },
  {
   "cell_type": "code",
   "execution_count": 5,
   "metadata": {},
   "outputs": [
    {
     "name": "stdout",
     "output_type": "stream",
     "text": [
      "+--------------------+---+-----------+---------+--------------------+------+---------------+-------------------+-------------+----------+---------+--------------------+--------------------+\n",
      "|   registration_dttm| id| first_name|last_name|               email|gender|     ip_address|                 cc|      country| birthdate|   salary|               title|            comments|\n",
      "+--------------------+---+-----------+---------+--------------------+------+---------------+-------------------+-------------+----------+---------+--------------------+--------------------+\n",
      "|2016-02-04T10:34:07Z|  1|      Kelly|    Ortiz|kortiz0@omniture.com|Female|252.115.158.159|   3537905681760845|       Russia| 4/23/1980|277302.99|               Nurse|                    |\n",
      "|2016-02-04T22:54:01Z|  2|     Sharon|  Carroll|scarroll1@disqus.com|Female|  29.217.252.62|  56022458507191696|    Indonesia| 8/28/1992|209258.05|           Recruiter|         åß∂ƒ©˙∆˚¬…æ|\n",
      "|2016-02-04T17:59:50Z|  3|       Ruth|     Ross|       rross2@cbc.ca|Female|  220.224.80.32|   3589642396435648|        Benin| 6/13/1994|  18270.7|     Design Engineer|                    |\n",
      "|2016-02-04T16:03:17Z|  4|      Kelly|    Meyer| kmeyer3@cornell.edu|Female| 255.65.123.124|               NULL|  Philippines|  1/6/1967| 17485.27|     Cost Accountant|                    |\n",
      "|2016-02-04T11:12:24Z|  5|      Irene|   Jordan|ijordan4@pagesper...|Female|  162.57.23.136|   3576848317807089|United States|  1/4/1997|163979.38|Programmer Analys...|                    |\n",
      "|2016-02-04T12:53:19Z|  6|      Irene|    Wells|    iwells5@fema.gov|Female|    85.5.67.113|               NULL|         Iran|          | 74337.42|                    |                    |\n",
      "|2016-02-04T16:41:49Z|  7|    Jessica|    Grant|      jgrant6@gov.uk|Female|  127.235.63.12|   3536345996536989|      Ecuador| 1/27/1969|128665.86|Payment Adjustmen...|                    |\n",
      "|2016-02-04T01:31:12Z|  8|      Norma|   Wright|  nwright7@prweb.com|Female| 81.219.156.187|  63047796765720509|    Indonesia| 6/27/1997| 68907.46|Office Assistant III|                    |\n",
      "|2016-02-04T18:48:55Z|  9|    Brandon|   Snyder|bsnyder8@artistee...|  Male|102.118.191.191| 490339322609872711|        Malta| 10/6/1981| 71646.15|Physical Therapy ...|                    |\n",
      "|2016-02-04T18:24:16Z| 10|  Stephanie|     Reed|      sreed9@who.int|Female|  175.52.228.75| 502081312903167845|  Afghanistan| 8/27/1957|137924.13|           Recruiter|               test |\n",
      "|2016-02-04T05:51:45Z| 11|       Jane|Armstrong|jarmstronga@state...|      |  202.44.98.126|    374283443294665|        China|10/30/1991|     NULL| Associate Professor|                    |\n",
      "|2016-02-04T17:34:07Z| 12|      Donna|  Coleman| dcolemanb@upenn.edu|Female|   178.9.167.99|               NULL|      Vietnam|11/21/1957| 93283.06|           Librarian|                    |\n",
      "|2016-02-04T06:37:19Z| 13|     Samuel|   Butler|     sbutlerc@hp.com|  Male| 129.114.220.80|   3587725229492688|     Colombia| 9/12/1984| 208303.6|Compensation Analyst|                    |\n",
      "|2016-02-04T06:30:13Z| 14|      Jerry|   Medina|   jmedinad@youtu.be|  Male|   87.0.152.222|   3579766249568578|        Japan| 8/30/1988| 53502.26|    Registered Nurse|                    |\n",
      "|2016-02-04T16:28:37Z| 15|     Samuel|     Lane|       slanee@i2i.jp|  Male|  225.20.25.160|               NULL|       Canada|  9/6/1983|142643.38|GIS Technical Arc...|❤️ 💔 💌 💕 💞 💓...|\n",
      "|2016-02-04T23:54:50Z| 16|      Kathy|     Rice|kricef@independen...|Female|   4.200.99.226|6709951086431189768|  Philippines|          |  52614.1|                    |                    |\n",
      "|2016-02-04T08:52:59Z| 17|       Adam|    Woods|     awoodsg@mapy.cz|  Male|229.247.245.218|   3580417672766100|    Indonesia| 12/8/1987|284906.49|Payment Adjustmen...|                    |\n",
      "|2016-02-04T03:12:53Z| 18|    Theresa|    Ellis|tellish@nydailyne...|Female| 39.249.101.160|               NULL|      Belarus| 6/18/1966| 35216.95|Sales Representative|                    |\n",
      "|2016-02-04T03:09:03Z| 19|Christopher|   Brooks|  cbrooksi@intel.com|  Male|   252.52.58.13|               NULL|        China|          |119492.57|                    |                    |\n",
      "|2016-02-04T00:02:19Z| 20|      Debra|    White|     dwhitej@umn.edu|Female|142.140.184.111|               NULL|    Indonesia|          | 47859.54|                    |                    |\n",
      "+--------------------+---+-----------+---------+--------------------+------+---------------+-------------------+-------------+----------+---------+--------------------+--------------------+\n",
      "only showing top 20 rows\n",
      "\n"
     ]
    }
   ],
   "source": [
    "#Display the data\n",
    "df_avro.show()"
   ]
  },
  {
   "cell_type": "code",
   "execution_count": 16,
   "metadata": {},
   "outputs": [],
   "source": [
    "#Writing the data into CSV file(Converting to CSV File)\n",
    "df_avro.write.mode(\"overwrite\").csv(\"Files/csv_output\")"
   ]
  },
  {
   "cell_type": "code",
   "execution_count": 17,
   "metadata": {},
   "outputs": [
    {
     "name": "stdout",
     "output_type": "stream",
     "text": [
      "+--------------------+---+-----------+---------+--------------------+------+---------------+-------------------+-------------+----------+---------+--------------------+--------------------+\n",
      "|2016-02-04T10:34:07Z|  1|      Kelly|    Ortiz|kortiz0@omniture.com|Female|252.115.158.159|   3537905681760845|       Russia| 4/23/1980|277302.99|               Nurse|                _c12|\n",
      "+--------------------+---+-----------+---------+--------------------+------+---------------+-------------------+-------------+----------+---------+--------------------+--------------------+\n",
      "|2016-02-04T22:54:01Z|  2|     Sharon|  Carroll|scarroll1@disqus.com|Female|  29.217.252.62|  56022458507191696|    Indonesia| 8/28/1992|209258.05|           Recruiter|         åß∂ƒ©˙∆˚¬…æ|\n",
      "|2016-02-04T17:59:50Z|  3|       Ruth|     Ross|       rross2@cbc.ca|Female|  220.224.80.32|   3589642396435648|        Benin| 6/13/1994|  18270.7|     Design Engineer|                NULL|\n",
      "|2016-02-04T16:03:17Z|  4|      Kelly|    Meyer| kmeyer3@cornell.edu|Female| 255.65.123.124|               NULL|  Philippines|  1/6/1967| 17485.27|     Cost Accountant|                NULL|\n",
      "|2016-02-04T11:12:24Z|  5|      Irene|   Jordan|ijordan4@pagesper...|Female|  162.57.23.136|   3576848317807089|United States|  1/4/1997|163979.38|Programmer Analys...|                NULL|\n",
      "|2016-02-04T12:53:19Z|  6|      Irene|    Wells|    iwells5@fema.gov|Female|    85.5.67.113|               NULL|         Iran|      NULL| 74337.42|                NULL|                NULL|\n",
      "|2016-02-04T16:41:49Z|  7|    Jessica|    Grant|      jgrant6@gov.uk|Female|  127.235.63.12|   3536345996536989|      Ecuador| 1/27/1969|128665.86|Payment Adjustmen...|                NULL|\n",
      "|2016-02-04T01:31:12Z|  8|      Norma|   Wright|  nwright7@prweb.com|Female| 81.219.156.187|  63047796765720509|    Indonesia| 6/27/1997| 68907.46|Office Assistant III|                NULL|\n",
      "|2016-02-04T18:48:55Z|  9|    Brandon|   Snyder|bsnyder8@artistee...|  Male|102.118.191.191| 490339322609872711|        Malta| 10/6/1981| 71646.15|Physical Therapy ...|                NULL|\n",
      "|2016-02-04T18:24:16Z| 10|  Stephanie|     Reed|      sreed9@who.int|Female|  175.52.228.75| 502081312903167845|  Afghanistan| 8/27/1957|137924.13|           Recruiter|               test |\n",
      "|2016-02-04T05:51:45Z| 11|       Jane|Armstrong|jarmstronga@state...|  NULL|  202.44.98.126|    374283443294665|        China|10/30/1991|     NULL| Associate Professor|                NULL|\n",
      "|2016-02-04T17:34:07Z| 12|      Donna|  Coleman| dcolemanb@upenn.edu|Female|   178.9.167.99|               NULL|      Vietnam|11/21/1957| 93283.06|           Librarian|                NULL|\n",
      "|2016-02-04T06:37:19Z| 13|     Samuel|   Butler|     sbutlerc@hp.com|  Male| 129.114.220.80|   3587725229492688|     Colombia| 9/12/1984| 208303.6|Compensation Analyst|                NULL|\n",
      "|2016-02-04T06:30:13Z| 14|      Jerry|   Medina|   jmedinad@youtu.be|  Male|   87.0.152.222|   3579766249568578|        Japan| 8/30/1988| 53502.26|    Registered Nurse|                NULL|\n",
      "|2016-02-04T16:28:37Z| 15|     Samuel|     Lane|       slanee@i2i.jp|  Male|  225.20.25.160|               NULL|       Canada|  9/6/1983|142643.38|GIS Technical Arc...|❤️ 💔 💌 💕 💞 💓...|\n",
      "|2016-02-04T23:54:50Z| 16|      Kathy|     Rice|kricef@independen...|Female|   4.200.99.226|6709951086431189768|  Philippines|      NULL|  52614.1|                NULL|                NULL|\n",
      "|2016-02-04T08:52:59Z| 17|       Adam|    Woods|     awoodsg@mapy.cz|  Male|229.247.245.218|   3580417672766100|    Indonesia| 12/8/1987|284906.49|Payment Adjustmen...|                NULL|\n",
      "|2016-02-04T03:12:53Z| 18|    Theresa|    Ellis|tellish@nydailyne...|Female| 39.249.101.160|               NULL|      Belarus| 6/18/1966| 35216.95|Sales Representative|                NULL|\n",
      "|2016-02-04T03:09:03Z| 19|Christopher|   Brooks|  cbrooksi@intel.com|  Male|   252.52.58.13|               NULL|        China|      NULL|119492.57|                NULL|                NULL|\n",
      "|2016-02-04T00:02:19Z| 20|      Debra|    White|     dwhitej@umn.edu|Female|142.140.184.111|               NULL|    Indonesia|      NULL| 47859.54|                NULL|                NULL|\n",
      "|2016-02-04T04:18:46Z| 21|      Alice|     Ward|awardk@cafepress.com|Female|  14.157.183.41|   3554057857533990|      Vietnam|  5/7/1977| 117790.3|    Technical Writer|                NULL|\n",
      "+--------------------+---+-----------+---------+--------------------+------+---------------+-------------------+-------------+----------+---------+--------------------+--------------------+\n",
      "only showing top 20 rows\n",
      "\n"
     ]
    }
   ],
   "source": [
    "#reading CSV file\n",
    "df=spark.read.csv(\"Files/csv_output\",header=True)\n",
    "\n",
    "#Display the data of CSV file\n",
    "df.show()"
   ]
  },
  {
   "cell_type": "markdown",
   "metadata": {},
   "source": [
    "## <Center><h1 style=\"background:white;color:blue;font-weight:bold\">Conversion CSV TO JSON</h1></Center>"
   ]
  },
  {
   "cell_type": "code",
   "execution_count": 13,
   "metadata": {},
   "outputs": [
    {
     "name": "stdout",
     "output_type": "stream",
     "text": [
      "root\n",
      " |-- stud_ID: string (nullable = true)\n",
      " |-- FirstName: string (nullable = true)\n",
      " |-- LastName: string (nullable = true)\n",
      " |-- Dept: string (nullable = true)\n",
      " |-- Dept_ID: string (nullable = true)\n",
      "\n",
      "+-------+---------+---------+----+-------+\n",
      "|stud_ID|FirstName| LastName|Dept|Dept_ID|\n",
      "+-------+---------+---------+----+-------+\n",
      "|      1|    Deven|    Gupta|  IT|      1|\n",
      "|      2|   Prayag|    Bhoir|  IT|      1|\n",
      "|      3|    Ayush|Prajapati|COMP|      2|\n",
      "|      4|     Shiv|    Yelve|COMP|      2|\n",
      "|      5|   Nikhil|    Patil|MECH|      3|\n",
      "+-------+---------+---------+----+-------+\n",
      "\n"
     ]
    }
   ],
   "source": [
    "#Reading CSV file\n",
    "df_csv=spark.read.csv(\"Files/input.csv\",header=True)\n",
    "df_csv.printSchema()\n",
    "df_csv.show()"
   ]
  },
  {
   "cell_type": "code",
   "execution_count": null,
   "metadata": {},
   "outputs": [],
   "source": [
    "#Write to json(Convert the csv to json)\n",
    "df_csv.write.json(\"Files/json_output\")"
   ]
  },
  {
   "cell_type": "code",
   "execution_count": 19,
   "metadata": {},
   "outputs": [
    {
     "name": "stdout",
     "output_type": "stream",
     "text": [
      "+----+-------+---------+---------+-------+\n",
      "|Dept|Dept_ID|FirstName| LastName|stud_ID|\n",
      "+----+-------+---------+---------+-------+\n",
      "|  IT|      1|    Deven|    Gupta|      1|\n",
      "|  IT|      1|   Prayag|    Bhoir|      2|\n",
      "|COMP|      2|    Ayush|Prajapati|      3|\n",
      "|COMP|      2|     Shiv|    Yelve|      4|\n",
      "|MECH|      3|   Nikhil|    Patil|      5|\n",
      "+----+-------+---------+---------+-------+\n",
      "\n"
     ]
    }
   ],
   "source": [
    "#Reading json file\n",
    "df_json=spark.read.json(\"Files/json_output\")\n",
    "\n",
    "#Display the json file Contents\n",
    "df_json.show()"
   ]
  },
  {
   "cell_type": "code",
   "execution_count": null,
   "metadata": {},
   "outputs": [],
   "source": [
    "#stop spark session\n",
    "spark.stop()"
   ]
  }
 ],
 "metadata": {
  "kernelspec": {
   "display_name": "Python 3",
   "language": "python",
   "name": "python3"
  },
  "language_info": {
   "codemirror_mode": {
    "name": "ipython",
    "version": 3
   },
   "file_extension": ".py",
   "mimetype": "text/x-python",
   "name": "python",
   "nbconvert_exporter": "python",
   "pygments_lexer": "ipython3",
   "version": "3.12.4"
  }
 },
 "nbformat": 4,
 "nbformat_minor": 2
}
